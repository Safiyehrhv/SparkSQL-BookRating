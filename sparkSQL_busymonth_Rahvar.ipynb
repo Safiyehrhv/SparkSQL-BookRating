{
  "nbformat": 4,
  "nbformat_minor": 0,
  "metadata": {
    "colab": {
      "provenance": []
    },
    "kernelspec": {
      "name": "python3",
      "display_name": "Python 3"
    },
    "language_info": {
      "name": "python"
    }
  },
  "cells": [
    {
      "cell_type": "code",
      "execution_count": 1,
      "metadata": {
        "id": "iwZjQmh852um",
        "colab": {
          "base_uri": "https://localhost:8080/"
        },
        "outputId": "746084af-de84-4c92-b649-2da388592ace"
      },
      "outputs": [
        {
          "output_type": "stream",
          "name": "stdout",
          "text": [
            "Collecting pyspark\n",
            "  Downloading pyspark-3.5.3.tar.gz (317.3 MB)\n",
            "\u001b[2K     \u001b[90m━━━━━━━━━━━━━━━━━━━━━━━━━━━━━━━━━━━━━━━━\u001b[0m \u001b[32m317.3/317.3 MB\u001b[0m \u001b[31m3.9 MB/s\u001b[0m eta \u001b[36m0:00:00\u001b[0m\n",
            "\u001b[?25h  Preparing metadata (setup.py) ... \u001b[?25l\u001b[?25hdone\n",
            "Requirement already satisfied: py4j==0.10.9.7 in /usr/local/lib/python3.10/dist-packages (from pyspark) (0.10.9.7)\n",
            "Building wheels for collected packages: pyspark\n",
            "  Building wheel for pyspark (setup.py) ... \u001b[?25l\u001b[?25hdone\n",
            "  Created wheel for pyspark: filename=pyspark-3.5.3-py2.py3-none-any.whl size=317840625 sha256=75ad272f4baf94b023bb8d822b816ad1f64f35cf32fcbfa1c9a735cedd221376\n",
            "  Stored in directory: /root/.cache/pip/wheels/1b/3a/92/28b93e2fbfdbb07509ca4d6f50c5e407f48dce4ddbda69a4ab\n",
            "Successfully built pyspark\n",
            "Installing collected packages: pyspark\n",
            "Successfully installed pyspark-3.5.3\n"
          ]
        }
      ],
      "source": [
        "pip install pyspark"
      ]
    },
    {
      "cell_type": "code",
      "source": [
        "from pyspark.sql import SparkSession\n",
        "from pyspark.sql.functions import col, sum as _sum, date_format, to_date\n"
      ],
      "metadata": {
        "id": "oupDCz6wO1oF"
      },
      "execution_count": 15,
      "outputs": []
    },
    {
      "cell_type": "code",
      "source": [
        "spark = SparkSession.builder \\\n",
        "    .appName(\"LAXPassengerAnalysis\") \\\n",
        "    .config(\"spark.sql.legacy.timeParserPolicy\", \"LEGACY\") \\\n",
        "    .getOrCreate()"
      ],
      "metadata": {
        "id": "eTeWQbRCPT67"
      },
      "execution_count": 39,
      "outputs": []
    },
    {
      "cell_type": "code",
      "source": [
        "file_path = \"/content/lax_passengers_header.csv\"\n",
        "df = spark.read.csv(file_path, header=True, inferSchema=True)"
      ],
      "metadata": {
        "id": "hcRaiPwwPbLI"
      },
      "execution_count": 40,
      "outputs": []
    },
    {
      "cell_type": "code",
      "source": [
        "df.printSchema()\n"
      ],
      "metadata": {
        "colab": {
          "base_uri": "https://localhost:8080/"
        },
        "id": "tRJOPgHWSbii",
        "outputId": "2314139f-712b-4f52-f21b-f1a8b38d1b95"
      },
      "execution_count": 41,
      "outputs": [
        {
          "output_type": "stream",
          "name": "stdout",
          "text": [
            "root\n",
            " |-- DataExtractDate: string (nullable = true)\n",
            " |-- ReportPeriod: string (nullable = true)\n",
            " |-- Terminal: string (nullable = true)\n",
            " |-- Arrival_Departure: string (nullable = true)\n",
            " |-- Domestic_International: string (nullable = true)\n",
            " |-- Passenger_Count: integer (nullable = true)\n",
            "\n"
          ]
        }
      ]
    },
    {
      "cell_type": "code",
      "source": [
        "df.show(5)"
      ],
      "metadata": {
        "colab": {
          "base_uri": "https://localhost:8080/"
        },
        "id": "1vv6OXIZSfdA",
        "outputId": "0597d99e-e4a3-4672-e128-6e784bb5326b"
      },
      "execution_count": 42,
      "outputs": [
        {
          "output_type": "stream",
          "name": "stdout",
          "text": [
            "+---------------+------------+-----------------+-----------------+----------------------+---------------+\n",
            "|DataExtractDate|ReportPeriod|         Terminal|Arrival_Departure|Domestic_International|Passenger_Count|\n",
            "+---------------+------------+-----------------+-----------------+----------------------+---------------+\n",
            "|  5/1/2014 0:00| 1/1/06 0:00|Imperial Terminal|          Arrival|              Domestic|            490|\n",
            "|  5/1/2014 0:00| 1/1/06 0:00|Imperial Terminal|        Departure|              Domestic|            498|\n",
            "|  5/1/2014 0:00| 1/1/06 0:00|   Misc. Terminal|          Arrival|              Domestic|            753|\n",
            "|  5/1/2014 0:00| 1/1/06 0:00|   Misc. Terminal|        Departure|              Domestic|            688|\n",
            "|  5/1/2014 0:00| 1/1/06 0:00|       Terminal 1|          Arrival|              Domestic|         401535|\n",
            "+---------------+------------+-----------------+-----------------+----------------------+---------------+\n",
            "only showing top 5 rows\n",
            "\n"
          ]
        }
      ]
    },
    {
      "cell_type": "code",
      "source": [
        "df = df.withColumn(\"ReportPeriod\", to_date(col(\"ReportPeriod\"), \"M/d/yyyy\"))"
      ],
      "metadata": {
        "id": "XC3u1HK5Rdw-"
      },
      "execution_count": 43,
      "outputs": []
    },
    {
      "cell_type": "code",
      "source": [
        "df.select(\"ReportPeriod\").show(5)"
      ],
      "metadata": {
        "colab": {
          "base_uri": "https://localhost:8080/"
        },
        "id": "JAE099xsUF2v",
        "outputId": "85a0688e-b214-4324-c3a8-a7396f0b5b00"
      },
      "execution_count": 44,
      "outputs": [
        {
          "output_type": "stream",
          "name": "stdout",
          "text": [
            "+------------+\n",
            "|ReportPeriod|\n",
            "+------------+\n",
            "|  0006-01-01|\n",
            "|  0006-01-01|\n",
            "|  0006-01-01|\n",
            "|  0006-01-01|\n",
            "|  0006-01-01|\n",
            "+------------+\n",
            "only showing top 5 rows\n",
            "\n"
          ]
        }
      ]
    },
    {
      "cell_type": "code",
      "source": [
        "df = df.filter(col(\"ReportPeriod\").isNotNull())"
      ],
      "metadata": {
        "id": "1kdIz-DYUu_9"
      },
      "execution_count": 45,
      "outputs": []
    },
    {
      "cell_type": "code",
      "source": [
        "filtered_df = df.filter(col(\"Terminal\").isin(\n",
        "    \"Terminal 1\", \"Terminal 2\", \"Terminal 3\",\n",
        "    \"Terminal 4\", \"Terminal 5\",\n",
        "    \"Terminal 6\", \"Terminal 7\",\n",
        "    \"Terminal 8\", \"Tom Bradley International Terminal\"\n",
        "))"
      ],
      "metadata": {
        "id": "z3hpEO4YQR1D"
      },
      "execution_count": 46,
      "outputs": []
    },
    {
      "cell_type": "code",
      "source": [
        "filtered_df = filtered_df.withColumn(\"MonthYear\", date_format(col(\"ReportPeriod\"), \"MM/yyyy\"))"
      ],
      "metadata": {
        "id": "3s5SBoy7QfuH"
      },
      "execution_count": 47,
      "outputs": []
    },
    {
      "cell_type": "code",
      "source": [
        "filtered_df.select(\"MonthYear\").show(5)"
      ],
      "metadata": {
        "colab": {
          "base_uri": "https://localhost:8080/"
        },
        "id": "I96nhvuCU1eN",
        "outputId": "1675c814-c091-4483-8f8b-c3713ee8d875"
      },
      "execution_count": 48,
      "outputs": [
        {
          "output_type": "stream",
          "name": "stdout",
          "text": [
            "+---------+\n",
            "|MonthYear|\n",
            "+---------+\n",
            "|  01/0006|\n",
            "|  01/0006|\n",
            "|  01/0006|\n",
            "|  01/0006|\n",
            "|  01/0006|\n",
            "+---------+\n",
            "only showing top 5 rows\n",
            "\n"
          ]
        }
      ]
    },
    {
      "cell_type": "code",
      "source": [
        "monthly_passengers = filtered_df.groupBy(\"MonthYear\").agg(_sum(\"Passenger_Count\").alias(\"TotalPassengers\"))"
      ],
      "metadata": {
        "id": "CcnBEH5QQ7FJ"
      },
      "execution_count": 49,
      "outputs": []
    },
    {
      "cell_type": "code",
      "source": [
        "busy_months = monthly_passengers.filter(col(\"TotalPassengers\") > 5000000)"
      ],
      "metadata": {
        "id": "o6xZoxwnRApX"
      },
      "execution_count": 50,
      "outputs": []
    },
    {
      "cell_type": "code",
      "source": [
        "busy_months.show()"
      ],
      "metadata": {
        "colab": {
          "base_uri": "https://localhost:8080/"
        },
        "id": "KYBKSShlRFrB",
        "outputId": "f41dec2b-fad1-4f6f-e7f1-a86adef8da76"
      },
      "execution_count": 51,
      "outputs": [
        {
          "output_type": "stream",
          "name": "stdout",
          "text": [
            "+---------+---------------+\n",
            "|MonthYear|TotalPassengers|\n",
            "+---------+---------------+\n",
            "|  04/0016|        6109205|\n",
            "|  06/0008|        5538956|\n",
            "|  10/0016|        6629325|\n",
            "|  04/0014|        5614336|\n",
            "|  11/0015|        5838539|\n",
            "|  12/0015|        6196206|\n",
            "|  05/0011|        5476704|\n",
            "|  06/0017|        7470964|\n",
            "|  12/0007|        5186354|\n",
            "|  06/0010|        5311142|\n",
            "|  05/0017|        6933026|\n",
            "|  08/0015|        6902789|\n",
            "|  11/0014|        5288012|\n",
            "|  05/0007|        5256763|\n",
            "|  03/0014|        5622137|\n",
            "|  05/0008|        5247792|\n",
            "|  03/0008|        5232233|\n",
            "|  12/0016|        6640915|\n",
            "|  08/0014|        6595721|\n",
            "|  03/0007|        5240144|\n",
            "+---------+---------------+\n",
            "only showing top 20 rows\n",
            "\n"
          ]
        }
      ]
    },
    {
      "cell_type": "code",
      "source": [],
      "metadata": {
        "id": "Jt9uTeHLRIRc"
      },
      "execution_count": null,
      "outputs": []
    }
  ]
}