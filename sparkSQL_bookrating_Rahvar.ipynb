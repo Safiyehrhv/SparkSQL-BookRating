{
  "nbformat": 4,
  "nbformat_minor": 0,
  "metadata": {
    "colab": {
      "provenance": []
    },
    "kernelspec": {
      "name": "python3",
      "display_name": "Python 3"
    },
    "language_info": {
      "name": "python"
    }
  },
  "cells": [
    {
      "cell_type": "code",
      "execution_count": 1,
      "metadata": {
        "id": "eooOMNddOhrY",
        "colab": {
          "base_uri": "https://localhost:8080/"
        },
        "outputId": "890bbea0-e440-4650-d176-298bdd89db7a"
      },
      "outputs": [
        {
          "output_type": "stream",
          "name": "stdout",
          "text": [
            "Collecting pyspark\n",
            "  Downloading pyspark-3.5.3.tar.gz (317.3 MB)\n",
            "\u001b[2K     \u001b[90m━━━━━━━━━━━━━━━━━━━━━━━━━━━━━━━━━━━━━━━━\u001b[0m \u001b[32m317.3/317.3 MB\u001b[0m \u001b[31m4.6 MB/s\u001b[0m eta \u001b[36m0:00:00\u001b[0m\n",
            "\u001b[?25h  Preparing metadata (setup.py) ... \u001b[?25l\u001b[?25hdone\n",
            "Requirement already satisfied: py4j==0.10.9.7 in /usr/local/lib/python3.10/dist-packages (from pyspark) (0.10.9.7)\n",
            "Building wheels for collected packages: pyspark\n",
            "  Building wheel for pyspark (setup.py) ... \u001b[?25l\u001b[?25hdone\n",
            "  Created wheel for pyspark: filename=pyspark-3.5.3-py2.py3-none-any.whl size=317840625 sha256=818ad034be3b67a54ded34d7bdc8c990e17eb10d3d2abfcbafc163e3373a1716\n",
            "  Stored in directory: /root/.cache/pip/wheels/1b/3a/92/28b93e2fbfdbb07509ca4d6f50c5e407f48dce4ddbda69a4ab\n",
            "Successfully built pyspark\n",
            "Installing collected packages: pyspark\n",
            "Successfully installed pyspark-3.5.3\n"
          ]
        }
      ],
      "source": [
        "pip install pyspark"
      ]
    },
    {
      "cell_type": "code",
      "source": [
        "from pyspark.sql import SparkSession\n",
        "from pyspark.sql.functions import avg\n",
        "from pyspark.sql.functions import *\n",
        "from pyspark.sql import functions as F"
      ],
      "metadata": {
        "id": "Vd6fLMAbesep"
      },
      "execution_count": 1,
      "outputs": []
    },
    {
      "cell_type": "code",
      "source": [
        "spark = SparkSession.builder.master('local[*]').appName('ratingbooks').getOrCreate()"
      ],
      "metadata": {
        "id": "jD9fh2IQk5QV"
      },
      "execution_count": 2,
      "outputs": []
    },
    {
      "cell_type": "code",
      "source": [
        "rate_df = spark.read.options(sep=';', header=True, inferSchema=True).csv('/content/Book-Ratings.csv')\n",
        "book_df = spark.read.options(sep=';', header=True, inferSchema=True).csv('/content/Books.csv')\n",
        "user_df = spark.read.options(sep=';', header=True, inferSchema=True).csv('/content/Users.csv')"
      ],
      "metadata": {
        "id": "-AMWawJre2Rm"
      },
      "execution_count": 3,
      "outputs": []
    },
    {
      "cell_type": "code",
      "source": [
        "rate_df.show(10)"
      ],
      "metadata": {
        "colab": {
          "base_uri": "https://localhost:8080/"
        },
        "collapsed": true,
        "id": "XPP8bFYNe55k",
        "outputId": "a2bfc2db-de40-4b51-cbd0-832bf8c9acc4"
      },
      "execution_count": 14,
      "outputs": [
        {
          "output_type": "stream",
          "name": "stdout",
          "text": [
            "+------+----------+----+\n",
            "|userid|      isbn|rate|\n",
            "+------+----------+----+\n",
            "|276725|034545104X|   0|\n",
            "|276726|0155061224|   5|\n",
            "|276727|0446520802|   0|\n",
            "|276729|052165615X|   3|\n",
            "|276729|0521795028|   6|\n",
            "|276733|2080674722|   0|\n",
            "|276736|3257224281|   8|\n",
            "|276737|0600570967|   6|\n",
            "|276744|038550120X|   7|\n",
            "|276745| 342310538|  10|\n",
            "+------+----------+----+\n",
            "only showing top 10 rows\n",
            "\n"
          ]
        }
      ]
    },
    {
      "cell_type": "code",
      "source": [
        "rate_df.take(5)"
      ],
      "metadata": {
        "colab": {
          "base_uri": "https://localhost:8080/"
        },
        "collapsed": true,
        "id": "ik7S_PpWe9BN",
        "outputId": "98a1ffad-cba5-4ab5-c642-07013828284e"
      },
      "execution_count": 21,
      "outputs": [
        {
          "output_type": "execute_result",
          "data": {
            "text/plain": [
              "[Row(userid=276725, isbn='034545104X', rate=0),\n",
              " Row(userid=276726, isbn='0155061224', rate=5),\n",
              " Row(userid=276727, isbn='0446520802', rate=0),\n",
              " Row(userid=276729, isbn='052165615X', rate=3),\n",
              " Row(userid=276729, isbn='0521795028', rate=6)]"
            ]
          },
          "metadata": {},
          "execution_count": 21
        }
      ]
    },
    {
      "cell_type": "code",
      "source": [
        "book_df.take(5)"
      ],
      "metadata": {
        "colab": {
          "base_uri": "https://localhost:8080/"
        },
        "collapsed": true,
        "id": "qUFbHPEkfAfN",
        "outputId": "775dbbb6-5018-48f8-9c62-07f2114da9a4"
      },
      "execution_count": 20,
      "outputs": [
        {
          "output_type": "execute_result",
          "data": {
            "text/plain": [
              "[Row(ISBN='0195153448', BookTitle='Classical Mythology', BookAuthor='Mark P. O. Morford', YearOfPublication=2002, Publisher='Oxford University Press', ImageURLS='http://images.amazon.com/images/P/0195153448.01.THUMBZZZ.jpg', ImageURLM='http://images.amazon.com/images/P/0195153448.01.MZZZZZZZ.jpg', ImageURLL='http://images.amazon.com/images/P/0195153448.01.LZZZZZZZ.jpg'),\n",
              " Row(ISBN='0002005018', BookTitle='Clara Callan', BookAuthor='Richard Bruce Wright', YearOfPublication=2001, Publisher='HarperFlamingo Canada', ImageURLS='http://images.amazon.com/images/P/0002005018.01.THUMBZZZ.jpg', ImageURLM='http://images.amazon.com/images/P/0002005018.01.MZZZZZZZ.jpg', ImageURLL='http://images.amazon.com/images/P/0002005018.01.LZZZZZZZ.jpg'),\n",
              " Row(ISBN='0060973129', BookTitle='Decision in Normandy', BookAuthor=\"Carlo D'Este\", YearOfPublication=1991, Publisher='HarperPerennial', ImageURLS='http://images.amazon.com/images/P/0060973129.01.THUMBZZZ.jpg', ImageURLM='http://images.amazon.com/images/P/0060973129.01.MZZZZZZZ.jpg', ImageURLL='http://images.amazon.com/images/P/0060973129.01.LZZZZZZZ.jpg'),\n",
              " Row(ISBN='0374157065', BookTitle='Flu: The Story of the Great Influenza Pandemic of 1918 and the Search for the Virus That Caused It', BookAuthor='Gina Bari Kolata', YearOfPublication=1999, Publisher='Farrar Straus Giroux', ImageURLS='http://images.amazon.com/images/P/0374157065.01.THUMBZZZ.jpg', ImageURLM='http://images.amazon.com/images/P/0374157065.01.MZZZZZZZ.jpg', ImageURLL='http://images.amazon.com/images/P/0374157065.01.LZZZZZZZ.jpg'),\n",
              " Row(ISBN='0393045218', BookTitle='The Mummies of Urumchi', BookAuthor='E. J. W. Barber', YearOfPublication=1999, Publisher='W. W. Norton &amp; Company', ImageURLS='http://images.amazon.com/images/P/0393045218.01.THUMBZZZ.jpg', ImageURLM='http://images.amazon.com/images/P/0393045218.01.MZZZZZZZ.jpg', ImageURLL='http://images.amazon.com/images/P/0393045218.01.LZZZZZZZ.jpg')]"
            ]
          },
          "metadata": {},
          "execution_count": 20
        }
      ]
    },
    {
      "cell_type": "code",
      "source": [
        "user_df.take(5)\n",
        "\n"
      ],
      "metadata": {
        "colab": {
          "base_uri": "https://localhost:8080/"
        },
        "collapsed": true,
        "id": "62lvIpEzfDv9",
        "outputId": "0acd053e-fcf2-4b7c-b5d7-c467e52c18a8"
      },
      "execution_count": 19,
      "outputs": [
        {
          "output_type": "execute_result",
          "data": {
            "text/plain": [
              "[Row(UserID=1, USERNAME='bzsufoRTLN2', Location='nyc, new york, usa', Age='NULL'),\n",
              " Row(UserID=2, USERNAME='fq7kfHg4VEI', Location='stockton, california, usa', Age='18'),\n",
              " Row(UserID=3, USERNAME='W0Hbkd3xR8v', Location='moscow, yukon territory, russia', Age='NULL'),\n",
              " Row(UserID=4, USERNAME='W51GahAx5Ap', Location='porto, v.n.gaia, portugal', Age='17'),\n",
              " Row(UserID=5, USERNAME='VKN3PQ18GgN', Location='farnborough, hants, united kingdom', Age='NULL')]"
            ]
          },
          "metadata": {},
          "execution_count": 19
        }
      ]
    },
    {
      "cell_type": "code",
      "source": [
        "user_df = user_df.withColumnRenamed(\"UserID\", \"user_id\")\n",
        "book_df = book_df.withColumnRenamed(\"ISBN\", \"book_isbn\")\n",
        "rate_df = rate_df.withColumnRenamed(\"userid\", \"user_id\").withColumnRenamed(\"isbn\", \"book_isbn\")\n"
      ],
      "metadata": {
        "id": "uPgz7GV5BKtl"
      },
      "execution_count": 10,
      "outputs": []
    },
    {
      "cell_type": "code",
      "source": [
        "joined_df = rate_df.join(user_df, \"user_id\", \"inner\") \\\n",
        "                     .join(book_df, \"book_isbn\", \"inner\")"
      ],
      "metadata": {
        "id": "qnDZY5MVfICd"
      },
      "execution_count": 13,
      "outputs": []
    },
    {
      "cell_type": "code",
      "source": [
        "avg_rating_df = joined_df.groupBy(\"book_isbn\").agg(avg(\"rate\").alias(\"book_avg_rate\"))"
      ],
      "metadata": {
        "id": "tHIEVYEb_L-X"
      },
      "execution_count": 14,
      "outputs": []
    },
    {
      "cell_type": "code",
      "source": [
        "final_df = joined_df.join(avg_rating_df, \"book_isbn\", \"inner\")"
      ],
      "metadata": {
        "id": "XfA-Su0y7NMm"
      },
      "execution_count": 15,
      "outputs": []
    },
    {
      "cell_type": "code",
      "source": [
        "result_df = final_df.select(\"USERNAME\", \"BookTitle\", \"rate\", \"book_avg_rate\")"
      ],
      "metadata": {
        "id": "NHYhFsct74QV"
      },
      "execution_count": 17,
      "outputs": []
    },
    {
      "cell_type": "code",
      "source": [
        "result_df.show()"
      ],
      "metadata": {
        "colab": {
          "base_uri": "https://localhost:8080/"
        },
        "id": "BtiUYokd77xT",
        "outputId": "afd3b52e-5a3c-42cf-b8e1-cfbfbbdb799f"
      },
      "execution_count": 18,
      "outputs": [
        {
          "output_type": "stream",
          "name": "stdout",
          "text": [
            "+-----------+--------------------+----+-------------+\n",
            "|   USERNAME|           BookTitle|rate|book_avg_rate|\n",
            "+-----------+--------------------+----+-------------+\n",
            "|6chdqlR3DC7|The Way Things Wo...|   8|          8.0|\n",
            "|px70uymJ7k6|     Mog's Christmas|   0|          0.0|\n",
            "|mjteD2ip2Lj|     Mog's Christmas|   0|          0.0|\n",
            "|cHwJip4Kj4k|                Liar|   9|          9.0|\n",
            "|6VUiynjA3tV|The Prime of Miss...|   0|          0.0|\n",
            "|cHwJip4Kj4k|    The Fighting Man|   9|          9.0|\n",
            "|a0EEWhgtsW8|  First Among Equals|   0|          0.0|\n",
            "|Tupz6KKVgIq|    Matter Of Honour|   0|          0.0|\n",
            "|OMqCFWvTBPp|           Kidnapped|   0|          0.0|\n",
            "|EM5BvtuvZ91|     Brave New World|   9|          9.0|\n",
            "|cHwJip4Kj4k|     Brave New World|   9|          9.0|\n",
            "|cHwJip4Kj4k|Nothing Can Be Be...|   0|          0.0|\n",
            "|SyGcdQu7P4o|        Dark Spectre|   0|          0.0|\n",
            "|e8Hb8GyY8yN| Pearl and Sir Orfeo|   5|          5.0|\n",
            "|krizZUAK9f9|Cereus Blooms At ...|   8|          8.0|\n",
            "|LCv9LN0AQaf|CHESS FOR YOUNG B...|   8|          8.0|\n",
            "|3X2htHp8Jgk|Paddington's Birt...|   0|          0.0|\n",
            "|3X2htHp8Jgk|Paddington in the...|   0|          0.0|\n",
            "|gjo86LabiFL|       Babe Dressing|  10|         10.0|\n",
            "|vRhKAqzPu1g|       Which Colour?|   0|          0.0|\n",
            "+-----------+--------------------+----+-------------+\n",
            "only showing top 20 rows\n",
            "\n"
          ]
        }
      ]
    },
    {
      "cell_type": "code",
      "source": [],
      "metadata": {
        "id": "Cq1QDw-v7-Nb"
      },
      "execution_count": 57,
      "outputs": []
    },
    {
      "cell_type": "code",
      "source": [],
      "metadata": {
        "id": "4Ge3a-Eh-5zz"
      },
      "execution_count": null,
      "outputs": []
    }
  ]
}